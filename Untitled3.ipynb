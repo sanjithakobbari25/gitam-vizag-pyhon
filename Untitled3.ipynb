{
 "cells": [
  {
   "cell_type": "code",
   "execution_count": 2,
   "metadata": {},
   "outputs": [
    {
     "name": "stdout",
     "output_type": "stream",
     "text": [
      "1\n",
      "19\n"
     ]
    }
   ],
   "source": [
    "def leastNumber(li):\n",
    "    li.sort()\n",
    "    return li[0]\n",
    "def genericLeastNumber(li,n):\n",
    "    li.sort()\n",
    "    return li[n-1]\n",
    "li = [19,1,25,6,9,45,22]\n",
    "print(leastNumber(li))\n",
    "print(genericLeastNumber(li,4))"
   ]
  },
  {
   "cell_type": "markdown",
   "metadata": {},
   "source": [
    "## file handling in python"
   ]
  },
  {
   "cell_type": "code",
   "execution_count": 22,
   "metadata": {},
   "outputs": [
    {
     "name": "stdout",
     "output_type": "stream",
     "text": [
      "file is successfully created and data has inserted\n"
     ]
    }
   ],
   "source": [
    "def createFile(filename):\n",
    "    f = open(filename,'w+')\n",
    "    for i in range(10):\n",
    "        f.write('this is %d line \\n'%i)\n",
    "    print('file is successfully created and data has inserted')\n",
    "    f.close()\n",
    "    \n",
    "createFile('data.txt')    "
   ]
  },
  {
   "cell_type": "code",
   "execution_count": 7,
   "metadata": {},
   "outputs": [
    {
     "data": {
      "text/plain": [
       "'C:\\\\Users\\\\cse319'"
      ]
     },
     "execution_count": 7,
     "metadata": {},
     "output_type": "execute_result"
    }
   ],
   "source": [
    "pwd"
   ]
  },
  {
   "cell_type": "code",
   "execution_count": 21,
   "metadata": {},
   "outputs": [
    {
     "name": "stdout",
     "output_type": "stream",
     "text": [
      "completed successfully\n"
     ]
    }
   ],
   "source": [
    "def createFile(filename):\n",
    "    f = open(filename,'w+')\n",
    "    f.write('gitam vizag python training')\n",
    "    print('completed successfully')\n",
    "createFile('data.txt')"
   ]
  },
  {
   "cell_type": "code",
   "execution_count": 23,
   "metadata": {},
   "outputs": [
    {
     "name": "stdout",
     "output_type": "stream",
     "text": [
      "program completed successfully\n"
     ]
    }
   ],
   "source": [
    "def appendMode(filename):\n",
    "    f = open(filename,'a')\n",
    "    f.write('gitam vizag\\n')\n",
    "    f.write('python programming\\n')\n",
    "    print('program completed successfully')\n",
    "    return\n",
    "appendMode('data.txt')"
   ]
  },
  {
   "cell_type": "code",
   "execution_count": 16,
   "metadata": {},
   "outputs": [
    {
     "data": {
      "text/plain": [
       "'C:\\\\Users\\\\cse319'"
      ]
     },
     "execution_count": 16,
     "metadata": {},
     "output_type": "execute_result"
    }
   ],
   "source": [
    "pwd\n"
   ]
  },
  {
   "cell_type": "code",
   "execution_count": 24,
   "metadata": {},
   "outputs": [
    {
     "name": "stdout",
     "output_type": "stream",
     "text": [
      "this is 0 line \n",
      "this is 1 line \n",
      "this is 2 line \n",
      "this is 3 line \n",
      "this is 4 line \n",
      "this is 5 line \n",
      "this is 6 line \n",
      "this is 7 line \n",
      "this is 8 line \n",
      "this is 9 line \n",
      "gitam vizag\n",
      "python programming\n",
      "\n"
     ]
    }
   ],
   "source": [
    "def readFile(filename):\n",
    "    f = open(filename,'r')\n",
    "    if f.mode == 'r':\n",
    "        a = f.read()\n",
    "        print(a)\n",
    "    f.close()\n",
    "    return\n",
    "readFile('data.txt')"
   ]
  },
  {
   "cell_type": "code",
   "execution_count": 27,
   "metadata": {},
   "outputs": [
    {
     "data": {
      "text/plain": [
       "44"
      ]
     },
     "execution_count": 27,
     "metadata": {},
     "output_type": "execute_result"
    }
   ],
   "source": [
    "def wordCount(filename):\n",
    "    with open(filename,'r') as f:\n",
    "        if f.mode == 'r':\n",
    "            a = f.read()\n",
    "            li = a.split()\n",
    "    return len(li)\n",
    "wordCount('data.txt')"
   ]
  },
  {
   "cell_type": "code",
   "execution_count": 31,
   "metadata": {},
   "outputs": [
    {
     "data": {
      "text/plain": [
       "10"
      ]
     },
     "execution_count": 31,
     "metadata": {},
     "output_type": "execute_result"
    }
   ],
   "source": [
    "def wordCount(filename,word):\n",
    "    with open(filename,'r') as f:\n",
    "        if f.mode == 'r':\n",
    "            a = f.read()\n",
    "            li = a.split()\n",
    "    return li.count(word)\n",
    "wordCount('data.txt','this')"
   ]
  },
  {
   "cell_type": "code",
   "execution_count": 34,
   "metadata": {},
   "outputs": [
    {
     "name": "stdout",
     "output_type": "stream",
     "text": [
      "['p', 'y', 't', 'h', 'o', 'n', 'p', 'r', 'o', 'g', 'r', 'a', 'm', 'm', 'i', 'n', 'g']\n"
     ]
    }
   ],
   "source": [
    "s = 'pythonprogramming'\n",
    "li = list(s)\n",
    "print(li)"
   ]
  },
  {
   "cell_type": "code",
   "execution_count": 35,
   "metadata": {},
   "outputs": [
    {
     "data": {
      "text/plain": [
       "191"
      ]
     },
     "execution_count": 35,
     "metadata": {},
     "output_type": "execute_result"
    }
   ],
   "source": [
    "def charCount(filename):\n",
    "    with open(filename,'r') as f:\n",
    "        if f.mode == 'r':\n",
    "            a = f.read()\n",
    "            li = list(a)\n",
    "    return len(li)\n",
    "charCount('data.txt')"
   ]
  },
  {
   "cell_type": "code",
   "execution_count": 37,
   "metadata": {},
   "outputs": [
    {
     "data": {
      "text/plain": [
       "12"
      ]
     },
     "execution_count": 37,
     "metadata": {},
     "output_type": "execute_result"
    }
   ],
   "source": [
    "def lineCount(filename):\n",
    "    with open(filename,'r') as f:\n",
    "        if f.mode == 'r':\n",
    "            a = f.read()\n",
    "            li = a.split('\\n')\n",
    "    return len(li)\n",
    "lineCount('data.txt')"
   ]
  },
  {
   "cell_type": "code",
   "execution_count": 44,
   "metadata": {},
   "outputs": [
    {
     "data": {
      "text/plain": [
       "(0, 127, 10)"
      ]
     },
     "execution_count": 44,
     "metadata": {},
     "output_type": "execute_result"
    }
   ],
   "source": [
    "def caseCount(filename):\n",
    "    cntUpper = 0\n",
    "    cntLower = 0\n",
    "    cntDigit = 0\n",
    "    with open(filename,'r') as f:\n",
    "        if f.mode == 'r':\n",
    "            a = f.read()\n",
    "            li = list(a)\n",
    "    for i in range(len(li)):\n",
    "        if ord(li[i]) >= 65 and ord(li[i]) <= 90:\n",
    "            cntUpper += 1\n",
    "        elif ord(li[i]) >= 97 and ord(li[i]) <= 122:\n",
    "            cntLower += 1\n",
    "        elif ord(li[i]) >= 48 and ord(li[i]) <= 57:\n",
    "            cntDigit += 1\n",
    "    return(cntUpper,cntLower,cntDigit)\n",
    "caseCount('data.txt')\n",
    "        "
   ]
  },
  {
   "cell_type": "code",
   "execution_count": null,
   "metadata": {},
   "outputs": [],
   "source": []
  }
 ],
 "metadata": {
  "kernelspec": {
   "display_name": "Python 3",
   "language": "python",
   "name": "python3"
  },
  "language_info": {
   "codemirror_mode": {
    "name": "ipython",
    "version": 3
   },
   "file_extension": ".py",
   "mimetype": "text/x-python",
   "name": "python",
   "nbconvert_exporter": "python",
   "pygments_lexer": "ipython3",
   "version": "3.7.3"
  }
 },
 "nbformat": 4,
 "nbformat_minor": 2
}
